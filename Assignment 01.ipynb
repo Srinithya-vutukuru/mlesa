{
  "nbformat": 4,
  "nbformat_minor": 0,
  "metadata": {
    "colab": {
      "name": "Week 01",
      "version": "0.3.2",
      "provenance": []
    },
    "kernelspec": {
      "display_name": "Python 3",
      "language": "python",
      "name": "python3"
    }
  },
  "cells": [
    {
      "metadata": {
        "id": "6CO4q6QYmFPw",
        "colab_type": "code",
        "colab": {}
      },
      "cell_type": "code",
      "source": [
        "import numpy as np\n",
        "from numpy import linalg as LA"
      ],
      "execution_count": 0,
      "outputs": []
    },
    {
      "metadata": {
        "id": "5rRfIkqCmFP1",
        "colab_type": "code",
        "outputId": "24356425-3cb7-43fd-e8be-5dea79dd4592",
        "colab": {
          "base_uri": "https://localhost:8080/",
          "height": 35
        }
      },
      "cell_type": "code",
      "source": [
        "print(\"ANSWER#1 \", 128*128*3)"
      ],
      "execution_count": 0,
      "outputs": [
        {
          "output_type": "stream",
          "text": [
            "ANSWER#1  49152\n"
          ],
          "name": "stdout"
        }
      ]
    },
    {
      "metadata": {
        "id": "FhB3qTOpmFP6",
        "colab_type": "code",
        "outputId": "e0b344aa-45be-4918-c433-e8c4e3c146af",
        "colab": {
          "base_uri": "https://localhost:8080/",
          "height": 35
        }
      },
      "cell_type": "code",
      "source": [
        "print(\"ANSWER#2 \", 16*16*3)"
      ],
      "execution_count": 0,
      "outputs": [
        {
          "output_type": "stream",
          "text": [
            "ANSWER#2  768\n"
          ],
          "name": "stdout"
        }
      ]
    },
    {
      "metadata": {
        "id": "PHcdvgyaL_qv",
        "colab_type": "code",
        "outputId": "3d018c3a-561f-413d-8053-c524fc776355",
        "colab": {
          "base_uri": "https://localhost:8080/",
          "height": 35
        }
      },
      "cell_type": "code",
      "source": [
        "# y = Ax+b\n",
        "# Here y is (768,1) and x is (49152,1). Since addintion is between same size matrixes, b should be (768,1)\n",
        "# So y is Ax -> (768,1) => (m,n) * (49152,1)\n",
        "# we know that multiplcation can happen between matrixes with size (m,n) and (n, m)\n",
        "# Hence  m = 768 and n = 49152. So size of matrix A is (768, 49152) \n",
        "print(\"ANSWER#3 \", 768 * 49152)"
      ],
      "execution_count": 0,
      "outputs": [
        {
          "output_type": "stream",
          "text": [
            "ANSWER#3  37748736\n"
          ],
          "name": "stdout"
        }
      ]
    },
    {
      "metadata": {
        "id": "9UVpxIVVmFQC",
        "colab_type": "code",
        "outputId": "55f46d96-2dc4-41c1-8224-7b7c34f738df",
        "colab": {
          "base_uri": "https://localhost:8080/",
          "height": 35
        }
      },
      "cell_type": "code",
      "source": [
        "x = [-10, 2, 4, 8, 9]\n",
        "data = {\n",
        "    'L1': LA.norm(x,1),\n",
        "    'L2': LA.norm(x,2),\n",
        "    'L3': LA.norm(x,3),\n",
        "    'Linf': LA.norm(x,np.inf)\n",
        "}\n",
        "#print(data)\n",
        "print(\"ANSWER#4 \", max(data, key=data.get))"
      ],
      "execution_count": 0,
      "outputs": [
        {
          "output_type": "stream",
          "text": [
            "ANSWER#4  L1\n"
          ],
          "name": "stdout"
        }
      ]
    },
    {
      "metadata": {
        "id": "b4QG-TkwmFQG",
        "colab_type": "code",
        "outputId": "813de492-c246-439c-d0d1-579c9442dc5a",
        "colab": {
          "base_uri": "https://localhost:8080/",
          "height": 35
        }
      },
      "cell_type": "code",
      "source": [
        "W = np.array([[1,3,2,4,6], [3,2,7,8,7], [2, 7, 3, 7, 8], [4, 8, 7, 4, 9], [6,7,8,9,5]])\n",
        "print(\"ANSWER#5 \", np.round(LA.eigvals(W).max(),4))"
      ],
      "execution_count": 0,
      "outputs": [
        {
          "output_type": "stream",
          "text": [
            "ANSWER#5  28.7679\n"
          ],
          "name": "stdout"
        }
      ]
    },
    {
      "metadata": {
        "id": "uVyARjKomFQK",
        "colab_type": "code",
        "outputId": "a2304cc5-814f-4fc2-ee58-94a107b76d4e",
        "colab": {
          "base_uri": "https://localhost:8080/",
          "height": 35
        }
      },
      "cell_type": "code",
      "source": [
        "print(\"ANSWER#6 \", np.round(np.sqrt(LA.eigvals(W.dot(W)).max()),4))"
      ],
      "execution_count": 0,
      "outputs": [
        {
          "output_type": "stream",
          "text": [
            "ANSWER#6  28.7679\n"
          ],
          "name": "stdout"
        }
      ]
    },
    {
      "metadata": {
        "id": "nAs-tAGRmFQO",
        "colab_type": "code",
        "outputId": "ba349e0d-a01d-4fb9-f2c6-3f616b62dd30",
        "colab": {
          "base_uri": "https://localhost:8080/",
          "height": 35
        }
      },
      "cell_type": "code",
      "source": [
        "print(\"ANSWER#7 \", np.round(LA.svd(W)[1].max(),4))"
      ],
      "execution_count": 0,
      "outputs": [
        {
          "output_type": "stream",
          "text": [
            "ANSWER#7  28.7679\n"
          ],
          "name": "stdout"
        }
      ]
    },
    {
      "metadata": {
        "id": "7LiDmjO-vXOG",
        "colab_type": "code",
        "outputId": "dd88682b-90ff-4759-9210-f150e2dc94de",
        "colab": {
          "base_uri": "https://localhost:8080/",
          "height": 35
        }
      },
      "cell_type": "code",
      "source": [
        "print(\"ANSWER#8 Options 2nd and 4th\", )"
      ],
      "execution_count": 0,
      "outputs": [
        {
          "output_type": "stream",
          "text": [
            "ANSWER#8 Options 2nd and 4th\n"
          ],
          "name": "stdout"
        }
      ]
    },
    {
      "metadata": {
        "id": "xKfsU5MtmFQT",
        "colab_type": "code",
        "outputId": "09ceb2a9-3052-4e78-8f68-0321c2b32852",
        "colab": {
          "base_uri": "https://localhost:8080/",
          "height": 35
        }
      },
      "cell_type": "code",
      "source": [
        "y0 = np.array([[1, 0, 0, 0, 0]]).T\n",
        "b = np.array([[0, 1, 0, 0, 0]]).T\n",
        "y1 = W.dot(y0) + b\n",
        "print(\"ANSWER#9 \", np.round(LA.norm(y1,2),4))"
      ],
      "execution_count": 0,
      "outputs": [
        {
          "output_type": "stream",
          "text": [
            "ANSWER#9  8.544\n"
          ],
          "name": "stdout"
        }
      ]
    },
    {
      "metadata": {
        "id": "H_HYxXsdmFQX",
        "colab_type": "code",
        "outputId": "1f5cd90c-97dc-4036-ede8-8e53420842c5",
        "colab": {
          "base_uri": "https://localhost:8080/",
          "height": 35
        }
      },
      "cell_type": "code",
      "source": [
        "y2 = W.dot(y1) + b\n",
        "print(\"ANSWER#10 \", np.round(LA.norm(y2,2)/LA.norm(y0,2),4))"
      ],
      "execution_count": 0,
      "outputs": [
        {
          "output_type": "stream",
          "text": [
            "ANSWER#10  234.8638\n"
          ],
          "name": "stdout"
        }
      ]
    },
    {
      "metadata": {
        "id": "JIdVkzNEmFQb",
        "colab_type": "code",
        "colab": {}
      },
      "cell_type": "code",
      "source": [
        ""
      ],
      "execution_count": 0,
      "outputs": []
    }
  ]
}