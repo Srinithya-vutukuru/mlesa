{
  "nbformat": 4,
  "nbformat_minor": 0,
  "metadata": {
    "colab": {
      "name": "Week 06",
      "version": "0.3.2",
      "provenance": [],
      "collapsed_sections": [],
      "include_colab_link": true
    },
    "kernelspec": {
      "name": "python3",
      "display_name": "Python 3"
    }
  },
  "cells": [
    {
      "cell_type": "markdown",
      "metadata": {
        "id": "view-in-github",
        "colab_type": "text"
      },
      "source": [
        "<a href=\"https://colab.research.google.com/github/habeebperwad/mlesa/blob/master/Assignment%2006.ipynb\" target=\"_parent\"><img src=\"https://colab.research.google.com/assets/colab-badge.svg\" alt=\"Open In Colab\"/></a>"
      ]
    },
    {
      "metadata": {
        "id": "oB5Z8otI4jdA",
        "colab_type": "text"
      },
      "cell_type": "markdown",
      "source": [
        "### 1.  Consider the following statements regarding Artificial Neural Network s(ANN) and Convolutional Neural Networks (CNN)\n",
        "\n",
        "\t\t 1.There are sparse connections between inputs and outputs between two consecutive layers in a CNN\n",
        "\t\t 2.Parameters are shared between output neurons in a CNN layer.\n",
        "\t\t 3.There are sparse connections between inputs and outputs between two consecutive layers of an ANN\n",
        "\t\t 4.For any two layers with the same number of neurons an ANN will have fewer parameters than a CNN\n",
        "\n",
        "\t\tWhich of the above statements are TRUE\n",
        "- **A. RIGHT** 1 and 2\n",
        "- **B. ** 1, 2 and 3\n",
        "- **C. ** 1, 3 and 4\n",
        "- **D.** 2, 3 and 4"
      ]
    },
    {
      "metadata": {
        "id": "pX-6ji8w7QFc",
        "colab_type": "text"
      },
      "cell_type": "markdown",
      "source": [
        "### 2. What will be the size of the output of a convolutional layer with :\n",
        "\n",
        "\t\t\tInput size = [ 227 x 227 x 3 ],\n",
        "\t\t\tFilter Size = [ 11 x 11 x 3],\n",
        "\t\t\tStride = 4\n",
        "      \n",
        "- A. [ 54 x 54 ]\n",
        "- **B. RIGHT** [ 55 x 55 ]\n",
        "- C. [ 216 x 216 ]\n",
        "- D. [ 68 x 68 ]\n",
        "\n",
        "\n",
        "\n",
        "![alt text](https://adeshpande3.github.io/assets/Output.png)\n",
        "\n",
        "Here W = 227, K=11, P=0m and S = 4 for both height and width\n",
        "\n",
        "So O = (227-11+2*0)/4+1 = 55\n"
      ]
    },
    {
      "metadata": {
        "id": "liAtvz2G9F15",
        "colab_type": "text"
      },
      "cell_type": "markdown",
      "source": [
        "###3. Pooling layers are used to accomplish which of the following?\n",
        "- **A. RIGHT** To progressively reduce the spatial size of the representation\n",
        "- **B. RIGHT** To reduce the amount of parameters and computation in network\n",
        "- C. To select maximum value over pooling region always\n",
        "   - Selecting max value always is max pooling. but there are other operations also possible in pooling layer like average pooling. \n",
        "- D. None of the above"
      ]
    },
    {
      "metadata": {
        "id": "jY7sf4oLAnfG",
        "colab_type": "text"
      },
      "cell_type": "markdown",
      "source": [
        "### Answer questions 4-6 for the CNN architecture given below    \n",
        "\n",
        "The whole network is composed of CONV layers that perform 3x3 convolutions with stride 1 and padding is ‘same’.  POOL layers perform 2x2 max pooling with stride 2 (and no padding). Number of filters in the Conv layers and number of neurons in fully connected layers are shown in brackets\n",
        "\n",
        "### ![alt text](https://onlinecourses.nptel.ac.in/noc19_cs14/assets/img/A2Q4New.png?seed=27012&url=assets/img/A2Q4New.png)\n",
        "\n",
        "### 4. The output size after pool1, pool2 are\n",
        "- A. [ 111x111x128 ], [56x56x64]\n",
        "- **B. RIGHT** [ 112x112x128 ], [56x56x64]\n",
        "- C. [ 114x114x128 ], [58x58x64]\n",
        "- D. [ 111x111x128 ], [58x58x64]\n",
        "\n",
        "Each convolution layer will output same HxW since padding is SAME and stride is 1.\n",
        "- So after CONV1 224x224x64\n",
        "- So after CONV2 224x224x128\n",
        "pooling size is 2x2 and stride is 2. It means no overlaping in inputspace.\n",
        "- So after POOL1 **112x112x128**\n",
        "- So after CONV3 112x112x128\n",
        "- So after CONV4 112x112x64\n",
        "- So after POOL2 56x56x64"
      ]
    },
    {
      "metadata": {
        "id": "XGLOgs_GQE-_",
        "colab_type": "text"
      },
      "cell_type": "markdown",
      "source": [
        "### 5. Number of parameters till pool1 are\n",
        "- **A**. 89186\n",
        "- **B**. 73570\n",
        "- **C RIGHT**. 75648\n",
        "- **D**. 64898\n",
        "\n",
        "**Paramters in the Conv1**\n",
        "\n",
        "= no.of.filters * (filter-width * filter-height * input-depth + 1-bias-parameter)\n",
        "\n",
        "= 64 * (3 * 3 * 3 + 1) = 1792\n",
        "\n",
        "\n",
        "**Paramters in the Conv2**\n",
        "\n",
        "= no.of.filters * (filter-width * filter-height * input-depth + 1-bias-parameter)\n",
        "\n",
        "= 128 * (3 * 3 * 64 + 1) = 73856 \n",
        "\n",
        "\n",
        "**Parameters till pool 1**\n",
        "\n",
        "=  Paramters in the Conv1 + Paramters in the Conv2 = 1792 + 73856 = **75648**"
      ]
    },
    {
      "metadata": {
        "id": "5kthB8J7P0eq",
        "colab_type": "text"
      },
      "cell_type": "markdown",
      "source": [
        "### 6. Total number of parameters in the given network is\n",
        "- **A**. 104097392\n",
        "- **B**. **206081344**\n",
        "- **C**. 326789108\n",
        "- **D**.  207816190\n",
        "\n",
        "\n",
        "\n",
        "My understanding is that the ouput width and height of all conv layers is same as of input width and height since stride 1 and padding 'same' is for all conv layers(https://stackoverflow.com/a/42195267/739331). The pooling is 2x2 and non-overlaping (since stride is 2). That means output of each pooling layer is input-width/2 x input-height/2 x input-depth.  \n",
        "\n",
        "\n",
        "INPUT LAYER\t\n",
        "\n",
        "-------------\n",
        "- input :\tN/A\n",
        "- output:\t224 * 224 * 3\n",
        "\t\n",
        "\n",
        "CONV1 LAYER\t\n",
        "\n",
        " -------------\n",
        "- input :\t224 * 224 * 3\n",
        "- Number of filters = 64\n",
        "- Filter size = 3 * 3 * 3 (depth of filter same as input depth)\n",
        "- Parameters = Number of filters * (filter size + 1)\n",
        "           = 64 * (3 * 3 * 3 + 1) = 1792 \n",
        "- output:\t224 * 224 * 64  (depth of output same as number of filters)\n",
        "\t\n",
        "\n",
        "CONV2 LAYER\t\n",
        "\n",
        "-------------\n",
        "- input :\t224 * 224 * 64\n",
        "- Number of filters = 128\n",
        "- Filter size = 3 * 3 * 64\n",
        "- Parameters = 128 * (3 * 3 * 64 + 1) = 73856 \n",
        "- output:\t224 * 224 * 128\n",
        "\n",
        "\n",
        "POOL1 LAYER\t\n",
        "\n",
        "-------------\n",
        "- input :\t224 * 224 * 128\n",
        "- Parameters = No parameters for any pool layers. \n",
        "- output:\t112 * 112 * 128\n",
        "\n",
        "\n",
        "CONV3 LAYER\t\n",
        "\n",
        "-------------\n",
        "- input :\t112 * 112 * 128\n",
        "- Number of filters = 128\n",
        "- Filter size = 3 * 3 * 128\n",
        "- Parameters = 128 * (3 * 3 * 128 + 1) = 147584 \n",
        "- output:\t112 * 112 * 128\n",
        "\t\n",
        "\n",
        "CONV4 LAYER\t\n",
        "\n",
        "-------------\n",
        "- input :\t112 * 112 * 128\n",
        "- Number of filters = 64\n",
        "- Filter size = 3 * 3 * 128\n",
        "- Parameters = 64 * (3 * 3 * 128 + 1) = 73792 \n",
        "- output:\t112 * 112 * 64\n",
        "\n",
        "\n",
        "POOL2 LAYER\t\n",
        "\n",
        "-------------\n",
        "- input :\t112 * 112 * 64\n",
        "- output:\t56 * 56 * 64\n",
        "\n",
        "\n",
        "FC 1024 LAYER\t\n",
        "\n",
        "-------------\n",
        "- Neurons from previous layer: 56 * 56 * 64 = 200704\n",
        "- Neurons int the current layer: 1024\n",
        "- Parameters/weights = (Neurons from previous layer + 1-bias-neuron) * Neurons int the current layer.\n",
        "                   = (200704 + 1) * 1024  = 205521920\n",
        "- output:\t1024 neurons\n",
        "\n",
        "\n",
        "FC 256 LAYER\t\n",
        "\n",
        "-------------\n",
        "- Neurons from previous layer: 1024\n",
        "- Neurons int the current layer: 256\n",
        "- Parameters/weights = (1024 + 1) * 256 = 262400\n",
        "- output:\t256 neurons\n",
        "\n",
        "\n",
        "\n",
        "OUTPUT LAYER\t\n",
        "\n",
        "-------------\n",
        "- Neurons from previous layer: 256\n",
        "- Neurons int the current layer: 10\n",
        "- Parameters/weights = (256 + 1) * 10 = 2570\n",
        "- output:\tNever mind!\n",
        "\n",
        "\n",
        "Parameters\n",
        "\n",
        "------------\n",
        "- conv1: 1792\n",
        "- conv2: 73856\n",
        "- conv3: 147584\n",
        "- conv4: 73792\n",
        "- fc1024:205521920\n",
        "- fc256: 262400\n",
        "- output: 2570\n",
        "- TOTAL: 206083914\n",
        "\n",
        "-----------\n",
        "Total parameters excluding output paramters = 206083914 - 2570 = 206081344 (this is one of the option!)"
      ]
    },
    {
      "metadata": {
        "id": "SriPl5Se4hRi",
        "colab_type": "code",
        "colab": {}
      },
      "cell_type": "code",
      "source": [
        ""
      ],
      "execution_count": 0,
      "outputs": []
    },
    {
      "metadata": {
        "id": "goIElVMpOQk7",
        "colab_type": "text"
      },
      "cell_type": "markdown",
      "source": [
        "### 7. Which of the following is true for most CNN architectures?\n",
        "- **A RIGHT**. Size of input (height and width) decreases, while depth increases\n",
        "- **B RIGHT**. Multiple convolutional layers followed by pooling layers.\n",
        "- **C**. Fully connected layers in the first few layers\n",
        "- **D RIGHT**. Fully connected layers in the last few layers\n",
        "- **E**. Multiple pool layers followed by a convolutional layer"
      ]
    },
    {
      "metadata": {
        "id": "ekfo2VdaNdZF",
        "colab_type": "text"
      },
      "cell_type": "markdown",
      "source": [
        "### Consider the architecture shown below and answer Questions 8-10\n",
        "![alt text](https://onlinecourses.nptel.ac.in/noc19_cs14/assets/img/A6Q8.png?seed=54080&url=assets/img/A6Q8.png)\n",
        "\n",
        "### 8. The network shown is popularly known as\n",
        "- **A**. AlexNet\n",
        "- **B**.VGG\n",
        "- **C RIGHT**. GoogLeNet\n",
        "   - [CNN Architecture Part 3 (GoogleNet)](https://www.youtube.com/watch?v=AUH1hm30VG4)\n",
        "- **D**.ResNet"
      ]
    },
    {
      "metadata": {
        "id": "wMFGE9zKMbUf",
        "colab_type": "text"
      },
      "cell_type": "markdown",
      "source": [
        "###9. What are the number of parameters and number of operations, for layer (3a) in above question?\n",
        "- **A**.  #parameters=163 K (approx.), #operations=128 M (approx.)\n",
        "- ~~**B RIGHT**~~ .  #parameters=159 K (approx.), #operations=128 M (approx.)\n",
        "   - [CNN Architecture Part 3 (GoogleNet)](https://youtu.be/AUH1hm30VG4?t=610) \n",
        "- **C**.  #parameters=128 M (approx.), #operations=159 K (approx.)\n",
        "- **D**.  #parameters=128 K (approx.), #operations=159 M (approx.)\n",
        "\n",
        "-------\n",
        "\n",
        "Accepted answer is **A**\n",
        "\n",
        "------\n",
        " "
      ]
    },
    {
      "metadata": {
        "id": "WZkG0yMRMJnP",
        "colab_type": "text"
      },
      "cell_type": "markdown",
      "source": [
        "### 10. The  importance of “reduce” in the table is that it\n",
        "- **A**. Reduces no. of feature maps in the previous layer\n",
        "- **B**. Reduces no. of operations\n",
        "- **C**. Reduces no. of parameters\n",
        "- **D RIGHT**. All of the above"
      ]
    },
    {
      "metadata": {
        "id": "hiademd4_OYV",
        "colab_type": "text"
      },
      "cell_type": "markdown",
      "source": [
        "### REFERNECES\n",
        "\n",
        "1.   [The best explanation of Convolutional Neural Networks on the Internet!](https://medium.com/technologymadeeasy/the-best-explanation-of-convolutional-neural-networks-on-the-internet-fbb8b1ad5df8)\n",
        "\n"
      ]
    },
    {
      "metadata": {
        "id": "56vqDmI7MaR5",
        "colab_type": "code",
        "colab": {}
      },
      "cell_type": "code",
      "source": [
        ""
      ],
      "execution_count": 0,
      "outputs": []
    }
  ]
}