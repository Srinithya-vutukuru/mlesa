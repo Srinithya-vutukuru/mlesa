{
  "nbformat": 4,
  "nbformat_minor": 0,
  "metadata": {
    "colab": {
      "name": "week 07",
      "version": "0.3.2",
      "provenance": [],
      "collapsed_sections": []
    },
    "kernelspec": {
      "name": "python3",
      "display_name": "Python 3"
    }
  },
  "cells": [
    {
      "metadata": {
        "id": "NK9VUTyvaSjk",
        "colab_type": "text"
      },
      "cell_type": "markdown",
      "source": [
        "Kindly download the paper from given link:\n",
        "\n",
        "https://www.cv-foundation.org/openaccess/content_cvpr_2015/papers/Long_Fully_Convolutional_Networks_2015_CVPR_paper.pdf\n",
        "\n",
        "This paper describes Fully Convolutional Neural Networks (FCNNs) for semantic segmentation.\n",
        "Read this paper and answer the following questions "
      ]
    },
    {
      "metadata": {
        "id": "llp5ikDwabAa",
        "colab_type": "text"
      },
      "cell_type": "markdown",
      "source": [
        "### 1. The advantage of Fully Convolutional Networks over conventional CNNs\n",
        "\n",
        "\t\t    a.  Only fixed sized input data can be passed network.\n",
        "\t\t    b.  Any arbitrary sized input data can be passed through network.\n",
        "\t\t    c.  The size of the output of FCNNs depends on the input size.\n",
        "\t\t    d.  FCNN is a computationally cheaper way of achieving semantic segmentation compared to conventional CNNs\n",
        "\n",
        "\t\t Which of the above statements are true?\n",
        " - **A**. a,b & d\n",
        " - **B**. a, c & d\n",
        " - **C RIGHT**. b, c & d\n",
        " - **D**. a,b, c & d\n",
        " \n",
        " \n",
        " 1.  I dont know option-d is correct or not. But I know option-a is wrong. "
      ]
    },
    {
      "metadata": {
        "id": "7ah2D0oAawpH",
        "colab_type": "text"
      },
      "cell_type": "markdown",
      "source": [
        "\n",
        "###2 One issue in this specific FCN is that by propagating through several alternated convolutional and pooling layers, the resolution of the output feature maps is down sampled. \n",
        "Therefore, the direct predictions of FCN are typically in low resolution, resulting in relatively fuzzy object boundaries. What methods are suggested by authors to gain original resolution?\n",
        "- **A RIGHT**.  Bilinear Interpolation\n",
        "- **B RIGHT**.  Deconvolution\n",
        "- **C RIGHT**.  Backward convolution\n",
        "- **D**.  Forward convolution\n",
        "\n",
        "---------\n",
        "Accepted Answers:\n",
        "- Bilinear Interpolation\n",
        "- Deconvolution\n",
        "- Forward convolution\n",
        "\n",
        "I think 'Forward convolution' is wrong. and it should be 'Backward convolution'\n",
        "\n",
        "---------"
      ]
    },
    {
      "metadata": {
        "id": "I1IPTOcTbHhF",
        "colab_type": "text"
      },
      "cell_type": "markdown",
      "source": [
        "### 3\n",
        "![alt text](https://onlinecourses.nptel.ac.in/noc19_cs14/assets/img/A7Q3.png?seed=33220&url=assets/img/A7Q3.png)\n",
        "\n",
        "- **A RIGHT**. 32x32x4096, 1x1x4096, 1x1x1000\n",
        "- **B**. 16x16x8192, 2x2x2048, 2x2x2048\n",
        "- **C**. 64x64x1024, 3x3x1000, 3x3x1000\n",
        "- **D**. 28x28x4096, 3x3x1024, 2x2x1024"
      ]
    },
    {
      "metadata": {
        "id": "mBSKx9RDwgVu",
        "colab_type": "text"
      },
      "cell_type": "markdown",
      "source": [
        "### 4. Which of following statement/s is/are True?\n",
        "- **A RIGHT**. Decreasing subsampling within a net is a tradeoff: the filters see finer information, but  have smaller receptive fields and take longer to compute.\n",
        "- **B RIGHT**.  The shift-and-stitch trick is another kind of tradeoff: the output is denser without decreasing the receptive field sizes of the filters, but the filters are prohibited from accessing information at a finer scale than their original design.\n",
        "- **C RIGHT**.  In this paper, network is trained with a per-pixel multinomial logistic loss.\n",
        "- **D RIGHT**.  Network is validated with the standard metric of mean pixel intersection over union, with the mean taken over all classes, including background."
      ]
    },
    {
      "metadata": {
        "id": "nSnybwUIwKfy",
        "colab_type": "text"
      },
      "cell_type": "markdown",
      "source": [
        "### 5. According to the paper, optimization parameter/s used in training the FCN-VGG16 is/are:\n",
        "- **A RIGHT**. Stochastic Gradient descent used as optimization algorithms\n",
        "- **B RIGHT**.  Learning rate is 10^-4\n",
        "- **C**.  For hyperparameter Grid Search has been used.\n",
        "- **D RIGHT**.  Dropout has been used in the network.\n",
        "    - \"Dropout was included where used in the original classifier nets.\". Read the [VGG16 paper](https://arxiv.org/pdf/1409.1556.pdf)."
      ]
    },
    {
      "metadata": {
        "id": "NynxgSxMvibK",
        "colab_type": "text"
      },
      "cell_type": "markdown",
      "source": [
        "###6. In the context of deep learning, transfer learning depends on which of the following variables:\n",
        "- **A RIGHT**. Similarity of the data to original data used for pre-training model weights\n",
        "- **B RIGHT**.  Amount of data available\n",
        "- **C RIGHT**.  Computational power\n",
        "- **D**.  Complexity of data\n",
        "\n",
        "\n",
        "-----\n",
        "\n",
        "Accepted Answers:\n",
        "- Similarity of the data to original data used for pre-training model weights\n",
        "- Amount of data available\n",
        "- Computational power\n",
        "- Complexity of data\n",
        "\n",
        "----"
      ]
    },
    {
      "metadata": {
        "id": "11JnOssbulAi",
        "colab_type": "text"
      },
      "cell_type": "markdown",
      "source": [
        "###7. In this context of Transfer Learning which of the following statements are True?\n",
        "- **A RIGHT**. Transfer learning enables feature extraction with pre-trained deep learning models.\n",
        "- **B RIGHT**.  When target labels are scarce, the weights of pre-trained models are frozen (fix weights) so as to avoid overfitting.\n",
        "- **C RIGHT**.  Fine-tuning of pre-trained model weights is generally preferred when target task labels are plentiful.\n",
        "- **D RIGHT**.  Transfer learning works better when the tasks on which the networks are trained for are similar.\n"
      ]
    },
    {
      "metadata": {
        "id": "yls22ytOt8S4",
        "colab_type": "text"
      },
      "cell_type": "markdown",
      "source": [
        "### 8. Choose the correct statement with regard to different approaches used for  hyper-parameter optimisation.   \n",
        "- **A**. Grid search approach is usually very efficient, and  each new guess is independent of previous guess.\n",
        "- **B RIGHT**. Random search approach is usually more efficient than grid search, and  each new guess is independent of previous guess.\n",
        "- **C**. In Bayesian optimisation, each new guess is independent of the previous guess.\n",
        "- **D**. Both A and B.\n",
        "\n"
      ]
    },
    {
      "metadata": {
        "id": "N7LBeCzTdhAw",
        "colab_type": "text"
      },
      "cell_type": "markdown",
      "source": [
        "### 9\n",
        "![alt text](https://onlinecourses.nptel.ac.in/noc19_cs14/assets/img/A7Q9.png?seed=75509&url=assets/img/A7Q9.png)\n",
        "- **A**.  High for model 1, low for model 2\n",
        "- **B RIGHT**.  Low for model 1, high for model 2\n",
        "- **C**.  Low for both models\n",
        "- **D**.  High for both models\n",
        "\n",
        "\n",
        "1. The last two options won't make any sense since the low and high are relative terms and will make sense only if that is comparing to something.\n",
        "2. Here Model-2 is complex model comapring to model-1. The regularisation parameter is for controlling the model complexity. So Model-2 need high value. "
      ]
    }
  ]
}