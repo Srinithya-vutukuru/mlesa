{
  "nbformat": 4,
  "nbformat_minor": 0,
  "metadata": {
    "colab": {
      "name": "Week 09",
      "version": "0.3.2",
      "provenance": [],
      "collapsed_sections": [],
      "include_colab_link": true
    },
    "kernelspec": {
      "name": "python3",
      "display_name": "Python 3"
    }
  },
  "cells": [
    {
      "cell_type": "markdown",
      "metadata": {
        "id": "view-in-github",
        "colab_type": "text"
      },
      "source": [
        "<a href=\"https://colab.research.google.com/github/habeebperwad/mlesa/blob/master/Assignment%2009.ipynb\" target=\"_parent\"><img src=\"https://colab.research.google.com/assets/colab-badge.svg\" alt=\"Open In Colab\"/></a>"
      ]
    },
    {
      "metadata": {
        "id": "kqMuW852fVRu",
        "colab_type": "text"
      },
      "cell_type": "markdown",
      "source": [
        "### 1\n",
        "![alt text](https://onlinecourses.nptel.ac.in/noc19_cs14/assets/img/A9Q1.1.PNG?seed=2330&url=assets/img/A9Q1.1.PNG)\n",
        "\n",
        "![alt text](https://onlinecourses.nptel.ac.in/noc19_cs14/assets/img/A9Q1.2.PNG?seed=27082&url=assets/img/A9Q1.2.PNG)\n",
        "\n",
        "- **A RIGHT**.\n",
        "\n",
        "![alt text](https://onlinecourses.nptel.ac.in/noc19_cs14/assets/img/A9Q1CH1.PNG?seed=30058&url=assets/img/A9Q1CH1.PNG)\n",
        "\n",
        "- **B**.\n",
        "\n",
        "![alt text](https://onlinecourses.nptel.ac.in/noc19_cs14/assets/img/A9Q1CH2.PNG?seed=4875&url=assets/img/A9Q1CH2.PNG)\n",
        "\n",
        "- **C RIGHT**. \n",
        "\n",
        "![alt text](https://onlinecourses.nptel.ac.in/noc19_cs14/assets/img/A9Q1CH3.PNG?seed=28012&url=assets/img/A9Q1CH3.PNG)\n",
        "\n",
        "- **D**. \n",
        "\n",
        "![alt text](https://onlinecourses.nptel.ac.in/noc19_cs14/assets/img/A9Q1CH4.PNG?seed=5237&url=assets/img/A9Q1CH4.PNG)"
      ]
    },
    {
      "metadata": {
        "id": "G77z062NvPtB",
        "colab_type": "text"
      },
      "cell_type": "markdown",
      "source": [
        "### 2 \n",
        "\n",
        "![alt text](https://onlinecourses.nptel.ac.in/noc19_cs14/assets/img/A9Q2.png?seed=69041&url=assets/img/A9Q2.png)\n",
        "\n",
        "- **A**. ![alt text](https://onlinecourses.nptel.ac.in/noc19_cs14/assets/img/A9Q2CH1.png?seed=47148&url=assets/img/A9Q2CH1.png)\n",
        "- **B**. ![alt text](https://onlinecourses.nptel.ac.in/noc19_cs14/assets/img/A9Q2CH2.png?seed=49647&url=assets/img/A9Q2CH2.png)\n",
        "- **C**. ![alt text](https://onlinecourses.nptel.ac.in/noc19_cs14/assets/img/A9Q2CH3.png?seed=90025&url=assets/img/A9Q2CH3.png)\n",
        "- **D RIGHT**. \n",
        "\n",
        "![alt text](https://onlinecourses.nptel.ac.in/noc19_cs14/assets/img/A9Q2CH4.png?seed=8580&url=assets/img/A9Q2CH4.png)"
      ]
    },
    {
      "metadata": {
        "id": "DXsNz0wBOJfy",
        "colab_type": "text"
      },
      "cell_type": "markdown",
      "source": [
        "We have given:\n",
        "\n",
        "$X_i = \\sigma^2 \\; \\; \\forall  i=1,2,..,B$ ... (equation-1)\n",
        "\n",
        "$\\mathbb{Var}[ \\; \\dfrac{1}{B} \\times \\sum_{i=1}^{B} x_i \\; ] = \\dfrac{1}{B} \\times  \\sigma^2 $ \n",
        "\n",
        "<p>&nbsp;</p>\n",
        "\n",
        "We kow that  $\\rho_{xy} = \\dfrac{Cov(x,y)}{\\sigma_x \\times \\sigma_y}$\n",
        "\n",
        "$\\Rightarrow Cov(x,y) = \\rho_{xy}\\times \\sigma_x \\times \\sigma_y $\n",
        "\n",
        "\n",
        "<p>&nbsp;</p>\n",
        "\n",
        "\n",
        "We need to find $\\mathbb{Var}[ \\; \\dfrac{1}{B} \\times \\sum_{i=1}^{B} x_i \\; ]$ if they are identcally distributed but not independend. \n",
        "- - - - \n",
        "\n",
        "<h3>\n",
        "\n",
        "$\\mathbb{Var}[ \\; \\dfrac{1}{B} \\times \\sum_{i=1}^{B} x_i \\; ]$ <br/>&nbsp;<br/>\n",
        "\n",
        "  \n",
        "$ \\; \\; \\; =\\; \\dfrac{1}{B^2} \\times \\mathbb{Var}[  \\sum_{i=1}^{B} x_i \\; ]$ <br/>&nbsp;<br/>\n",
        "\n",
        "$ \\; \\; \\; =\\; \\dfrac{1}{B^2} \\times  \\sum_{i=1}^{B}\\sum_{j=1}^{B} Cov(x_i,x_j) $ <br/>&nbsp;<br/>\n",
        "\n",
        "$ \\; \\; \\; =\\; \\dfrac{1}{B^2} \\times  \\sum_{i=1}^{B}\\sum_{j=1}^{B} \\rho_{x_{i}x_{j}}\\times \\sigma_{x_i} \\times \\sigma_{x_j} $ <br/>&nbsp;<br/>\n",
        "\n",
        "$ \\; \\; \\; =\\; \\dfrac{1}{B^2} \\times  \\sum_{i=1}^{B}\\sum_{j=1}^{B} \\rho_{x_{i}x_{j}}\\times \\sigma \\times \\sigma $<br/>&nbsp;<br/>\n",
        "\n",
        "\n",
        "$ \\; \\; \\; =\\; \\dfrac{\\sigma^2}{B^2} \\times  \\sum_{i=1}^{B}\\sum_{j=1}^{B} \\rho_{x_{i}x_{j}}$<br/>&nbsp;<br/>\n",
        "\n",
        "\n",
        "  $ \\; \\; \\; =\\; \\dfrac{\\sigma^2}{B^2} \\times  (\\sum_{k=1}^{B} \\rho_{x_{k}x_{k}} + \\sum_{i=1}^{B}\\sum_{j=1, j\\neq i}^{B} \\rho_{x_{i}x_{j}})$ <br/>&nbsp;<br/>\n",
        "  \n",
        " \n",
        "  $ \\; \\; \\; =\\; \\dfrac{\\sigma^2}{B^2} \\times  (\\sum_{k=1}^{B} \\dfrac{Cov(x_k,x_k)}{\\sigma_{x_k}\\times \\sigma_{x_k}} + \\sum_{i=1}^{B}\\sum_{j=1, j\\neq i}^{B} \\rho)$<br/>&nbsp;<br/>\n",
        " \n",
        "  \n",
        "  $ \\; \\; \\; =\\; \\dfrac{\\sigma^2}{B^2} \\times  (\\sum_{k=1}^{B} \\dfrac{\\sigma^2}{\\sigma\\times \\sigma} + \\sum_{i=1}^{B}\\sum_{j=1, j\\neq i}^{B} \\rho)$ <br/>&nbsp;<br/>\n",
        "  \n",
        "  \n",
        "$ \\; \\; \\; =\\; \\dfrac{\\sigma^2}{B^2} \\times  (\\sum_{k=1}^{B} 1 + \\sum_{i=1}^{B}\\sum_{j=1, j\\neq i}^{B} \\rho)$ <br/>&nbsp;<br/>\n",
        "  \n",
        " \n",
        "$ \\; \\; \\; =\\; \\dfrac{\\sigma^2}{B^2} \\times  (B + (B^2-B) \\times \\rho)$ <br/>&nbsp;<br/>\n",
        "  \n",
        "  \n",
        "$ \\; \\; \\; =\\; \\dfrac{\\sigma^2}{B} + \\rho \\times \\sigma^2 - \\dfrac{\\rho \\times \\sigma^2}{B}$ <br/>&nbsp;<br/>\n",
        "  \n",
        "  \n",
        "$ \\; \\; \\; =\\; \\rho \\times \\sigma^2 + \\dfrac{1-\\rho}{B} \\times \\sigma^2$ <br/>&nbsp;<br/>\n",
        "    \n",
        "  \n",
        "</h3>\n",
        "\n",
        "- MORE: http://personal.psu.edu/drh20/asymp/lectures/p51to58.pdf"
      ]
    },
    {
      "metadata": {
        "id": "k2_KEjpN5U8l",
        "colab_type": "text"
      },
      "cell_type": "markdown",
      "source": [
        "### 3 K-means is\n",
        "- **A**. a. A probabilistic algorithm to identify clusters present in data\n",
        "- **B RIGHT**. b. A non-Probabilistic algorithm to identify clusters present in data\n",
        "- **C**. None of the above\n",
        "- **D**. Both a and b"
      ]
    },
    {
      "metadata": {
        "id": "q6BaHRmDvP7m",
        "colab_type": "text"
      },
      "cell_type": "markdown",
      "source": [
        "### 4 Which of the following can act as possible termination conditions in K-Means?\n",
        "- **A**. Reaching a maximum number of iterations\n",
        "- **B**. Centroids do not change between successive iterations\n",
        "- **C**. The squared distance of each data point from its centroid summed over all training data points falls below a threshold\n",
        " - I think it is same as variance!\n",
        "- **D RIGHT**. All of the above\n",
        "  - [Stopping condition of K-means](https://stats.stackexchange.com/a/261004/167493)"
      ]
    },
    {
      "metadata": {
        "id": "16kcx6Bume5W",
        "colab_type": "text"
      },
      "cell_type": "markdown",
      "source": [
        "### 5 Which of the following are true about Decision trees?\n",
        "- **A WRONG**. Decision trees can be applied only for classification tasks\n",
        " -   used for classification and regression\n",
        "- **B RIGHT**. Decision tree is a non-parametric method\n",
        "  - Decision trees are non-parametric because they make no distributional assumptions on the data. That's all there is to it. The presence of some numbers that specify certain aspects of the model do not make the model parametric.\n",
        "\n",
        "- **C WRONG**. Decision tree can handle only categorical variables\n",
        " - Able to handle both numerical and categorical data. \n",
        "- **D RIGHT**. Decision trees tend to overfit data and are high variance classifiers\n",
        "\n",
        "----\n",
        "- [Decision Trees](https://scikit-learn.org/stable/modules/tree.html)\n",
        "- [Gentle Introduction to the Bias-Variance Trade-Off in Machine Learning](https://machinelearningmastery.com/gentle-introduction-to-the-bias-variance-trade-off-in-machine-learning/)\n",
        "- [Decision Tree - Overfitting](http://www.saedsayad.com/decision_tree_overfitting.htm)"
      ]
    },
    {
      "metadata": {
        "id": "wcdIb1xOfWLG",
        "colab_type": "text"
      },
      "cell_type": "markdown",
      "source": [
        "### 6 You are given 1500 training data points to train a decision tree. The minimum number of observations in each child node should be 300 after a split at the parent node. The minimum number of data points falling into a leaf node should be at least 400. Given these conditions what is the maximum possible depth of the decision tree?\n",
        "- **A**. 1\n",
        "- **~~B RIGHT~~**. 2\n",
        "- **C**. 3\n",
        "- **D**. 4\n",
        "\n"
      ]
    },
    {
      "metadata": {
        "id": "K6v_hY--pcRb",
        "colab_type": "text"
      },
      "cell_type": "markdown",
      "source": [
        "The idea of making a decision tree with maximum height:\n",
        "\n",
        "\n",
        "1.   Have minimum number of childrer for each parent( in decision tree, minimum children is 2)\n",
        "2.   Grow the tree to only one side (say right side). It means children of each parent node except the last one should have one leaf node and the other intermediate node. The last intermediate node will have both children as leaves.\n",
        "\n",
        "[See the tree for this solution.](https://www.draw.io/?lightbox=1&highlight=0000ff&edit=_blank&layers=1&nav=1&title=MLESA.%20Week09.%20Q06#R7VhNb%2BIwEP01HLfKd%2BBYoB%2BXSpWQdrd7WXmTaeLKiSPHNMn%2B%2BjXYJjEuKou6EFV7QZ43HnvmzcM2TPxF0d4xVOUPNAUy8Zy0nfjLiefFsS8%2BN0AngSCIJZAxnErI7YEV%2Fg0KdBS6xinUxkROKeG4MsGEliUk3MAQY7Qxpz1TYu5aoQwsYJUgYqPfcMpziU69uMfvAWe53tmNZtJTID1ZVVLnKKXNAPJvJv6CUcrlqGgXQDbcaV5k3O0B7y4xBiU%2FJoCUc3z79fpH9%2BJHzk%2Fyq0nv0y9qlVdE1qrg2NH58k6TIBYSfAtj3uSYw6pCycbTiI4LLOcFEZYrhqiuZBOecQti37mdpN4RGId2AKmk74AWwFknpiivF6iElIK8qbKbQT8UlA9aoTGkFJDtVu5JEgPF019w5lmcBWPjzHVGxllgcea6oyMtMklzwwuTFo5faN7IKItsnYVj48z6cl6Ys9jizOarTK83l6mwEoLqGicmTdBi%2Fl2MHTV%2BGuDLduBYdtooRerbkKtQm09DXx%2B2tXTcQf5rumYJvH8EccQy4O8f75AaDwO7m4N2hW%2B0S2MMCOL41XxOvNVDtcMjxaKygVgMrQT%2Bngpk2SpoePvvrbN3tvn7apK0WOtsBbUr%2BnSNTT9OY%2B4pGgtc31DZldMDB5S2tR6BYVE7sLPJz%2F0vv4%2BX3%2BwSR9zpWomO1Er4KbUSzsw3hTc7q1Z0GRc7q850Hx4rsuBTiuyfHUjC7H%2FTy%2Bn9HyP%2BzR8%3D)\n",
        "\n",
        "\n",
        "NB: I didn't understand the question properly. I confused with the statement \"The minimum number of observations in each child node should be 300 after a split at the parent node.\"\n",
        "\n",
        "If every leaf node have atleast 400 data points, each parent should have at leaat 800 datapoints.  That means the above statement is reduntant. \n",
        "\n",
        "------\n",
        "**Accepted Answers: 3**\n",
        "\n",
        "I don't know from where that answer came from.\n",
        "\n",
        "\n"
      ]
    },
    {
      "metadata": {
        "id": "KDr_qkZwfWT8",
        "colab_type": "text"
      },
      "cell_type": "markdown",
      "source": [
        "### 7 Which of the following statements are True with regard to K-Nearest Neighbours?\n",
        "- **A WRONG**. The decision boundary becomes smoother with decreasing value of K\n",
        " - As K increases, our decision surface gets smoother\n",
        "- **B WRONG**. k-NN  requires an explicit training step\n",
        " - kNN does not build a model of your data\n",
        "- **C RIGHT**. The K-Nearest Neighbor algorithm considers the entire training data for each test point classification\n",
        " - KNN makes predictions using the training dataset directly.\n",
        "- **D RIGHT**. Decreasing k increases variance\n",
        " - When we increase K, the training error will increase (increase bias), but the test error may decrease at the same time (decrease variance)\n",
        "---\n",
        "\n",
        " - [k-NN and some questions about k values and decision boundary](https://stackoverflow.com/a/29342626/739331)\n",
        " - [Would using too many neighbors in the k-nearest neighbor ...](https://qr.ae/TW1srL)\n",
        " - [K-Nearest Neighbors for Machine Learning](https://machinelearningmastery.com/k-nearest-neighbors-for-machine-learning/)\n",
        " - [K-Nearest Neighbors and Bias–Variance Tradeoff](https://medium.com/30-days-of-machine-learning/day-3-k-nearest-neighbors-and-bias-variance-tradeoff-75f84d515bdb)\n"
      ]
    },
    {
      "metadata": {
        "id": "U7dVpxQ3wuMn",
        "colab_type": "text"
      },
      "cell_type": "markdown",
      "source": [
        "### 8. Download the Old Faithful data from the following link\n",
        "\n",
        "              http://www.stat.cmu.edu/~larry/all-of-statistics/=data/faithful.dat\n",
        "\n",
        "\n",
        "\t\tAssume, you want to cluster the given data set into 2 clusters, using K-Means clustering  algorithm. What will be the cluster centroids, on convergence?       \n",
        "- **A. RIGHT** C1: (2.09, 54.75) , C2: (4.29,80.28)\n",
        "- **B.** C1: (1.88, 55), C2: (4.15, 88)\n",
        "- **C.** C1: (2.18, 55), C2: (4.80, 81)\n",
        "- **D.** None of the above"
      ]
    },
    {
      "metadata": {
        "id": "_BGFOW6JmRGy",
        "colab_type": "code",
        "outputId": "0f7a03aa-a683-481f-8625-9999a8363dd0",
        "colab": {
          "base_uri": "https://localhost:8080/",
          "height": 401
        }
      },
      "cell_type": "code",
      "source": [
        "import requests\n",
        "import numpy as np\n",
        "from sklearn.cluster import KMeans\n",
        "import matplotlib.pyplot as plt\n",
        "\n",
        "target_url = \"http://www.stat.cmu.edu/~larry/all-of-statistics/=data/faithful.dat\"\n",
        "data_with_linenumbers = np.genfromtxt(target_url, skip_header=26)\n",
        "data = data_with_linenumbers[:,1:]\n",
        "print(\"Shape of the data: \", data.shape)\n",
        "\n",
        "km = KMeans(n_clusters=2)\n",
        "colors = km.fit_predict(data)\n",
        "print(\"Centeroids: %s\" % (km.cluster_centers_.round(3),))\n",
        "\n",
        "# plot all data\n",
        "plt.scatter(data[:,1],data[:,0], c=colors)\n",
        "# plot two center points\n",
        "plt.scatter(km.cluster_centers_[:,1], km.cluster_centers_[:,0])\n",
        "plt.axis('equal')\n",
        "plt.show()"
      ],
      "execution_count": 0,
      "outputs": [
        {
          "output_type": "stream",
          "text": [
            "Shape of the data:  (272, 2)\n",
            "Centeroids: [[ 2.094 54.75 ]\n",
            " [ 4.298 80.285]]\n"
          ],
          "name": "stdout"
        },
        {
          "output_type": "display_data",
          "data": {
            "image/png": "[encoded data removed]",
            "text/plain": [
              "<Figure size 576x396 with 1 Axes>"
            ]
          },
          "metadata": {
            "tags": []
          }
        }
      ]
    },
    {
      "metadata": {
        "id": "g7dQdSnNetwZ",
        "colab_type": "text"
      },
      "cell_type": "markdown",
      "source": [
        "### 9 Which of the following is true with respect to bagging?\n",
        "- **A RIGHT**. Bagging involves sampling unbiasedly from the data for the purpose of ensemble learning.\n",
        " -  Each sample have equal chance in model building.\n",
        "- **B WRONG**. Bagging involves using weights on particular data points while sampling.\n",
        "- **C RIGHT**. Bagging typically reduces variance in the trained model.\n",
        "  - [How can we explain the fact that “Bagging reduces the variance while retaining the bias” mathematically?](https://stats.stackexchange.com/a/385317/167493)  \n",
        "- **D WRONG**. Bagging typically reduces bias in the trained model.\n",
        " "
      ]
    },
    {
      "metadata": {
        "id": "rnE9Zr8ufBeU",
        "colab_type": "text"
      },
      "cell_type": "markdown",
      "source": [
        "### 10 Which of the following is true with respect to boosting?\n",
        "- **A RIGHT**. Boosting can lead to overfitting the data\n",
        " -  It is a bit subjective statement. boosting is **robust** to overfitting. But if more  trees are used, it **can lead** to overfitting.\n",
        "- **B**. Boosting only reduces variance in the trained model\n",
        " -  I am not much sure about this statement. So skipping!!\n",
        "- **C RIGHT**. Boosting tries to bias the overall model by weighting in the favor of good performers\n",
        "- **D WRONG**. Boosting involves unbiased sampling of the data\n",
        " - boosting uses 'weight'. That can be considered as bias."
      ]
    },
    {
      "metadata": {
        "id": "pWvk8VAAs9MG",
        "colab_type": "code",
        "colab": {}
      },
      "cell_type": "code",
      "source": [
        ""
      ],
      "execution_count": 0,
      "outputs": []
    }
  ]
}