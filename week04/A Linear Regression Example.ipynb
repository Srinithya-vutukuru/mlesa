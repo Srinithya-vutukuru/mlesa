{
 "cells": [
  {
   "cell_type": "markdown",
   "metadata": {},
   "source": [
    "### week04: A Linear Regression Example\n",
    "- The original matlab code multiplies train_y by 1E-6 \n",
    "  and dividing predicted y by same constant. That is not done here.\n",
    "- No graph created in this code."
   ]
  },
  {
   "cell_type": "code",
   "execution_count": 83,
   "metadata": {},
   "outputs": [
    {
     "name": "stdout",
     "output_type": "stream",
     "text": [
      "Going to predict y value for  [[70]]\n",
      "Predicted y by linear:  [[6.68190288]]\n",
      "Predicted y by quadratic:  [[6.38846661]]\n",
      "Predicted y by cubic:  [[6.41282796]]\n"
     ]
    }
   ],
   "source": [
    "# libraries\n",
    "import numpy as np\n",
    "from sklearn.preprocessing import PolynomialFeatures\n",
    "from sklearn.linear_model import LinearRegression\n",
    "\n",
    "# Training X and Y\n",
    "train_x = np.array(range(80,-340-1,-20)).reshape(-1,1);\n",
    "train_y = np.array([\n",
    "    6.47, 6.36, 6.24, 6.12, 6.00,\n",
    "    5.86, 5.72, 5.58, 5.43, 5.28,\n",
    "    5.09, 4.91, 4.72, 4.52, 4.3,\n",
    "    4.08, 3.83, 3.58, 3.33, 3.07,\n",
    "    2.76, 2.45]).reshape(-1,1);\n",
    "\n",
    "# The test X used in the video\n",
    "test_x = np.array([[70]])\n",
    "print(\"Going to predict y value for \", test_x)\n",
    "\n",
    "# Creating a single instance LinearRegression and will be used three models. Bad idea!!\n",
    "lr = LinearRegression()\n",
    "\n",
    "# Linear\n",
    "lr.fit(train_x, train_y)\n",
    "print(\"Predicted y by linear: \", lr.predict(test_x))\n",
    "\n",
    "# Quadratic\n",
    "pf2 = PolynomialFeatures(2) # [x] -> [x, x^2]\n",
    "lr.fit(pf2.fit_transform(train_x), train_y)\n",
    "print(\"Predicted y by quadratic: \", lr.predict(pf2.fit_transform(test_x)))\n",
    "\n",
    "# Cubit\n",
    "pf3 = PolynomialFeatures(3) # [x] -> [x, x^2, x^3]\n",
    "lr.fit(pf3.fit_transform(train_x), train_y)\n",
    "print(\"Predicted y by cubic: \", lr.predict(pf3.fit_transform(test_x)))\n"
   ]
  },
  {
   "cell_type": "code",
   "execution_count": null,
   "metadata": {},
   "outputs": [],
   "source": []
  }
 ],
 "metadata": {
  "kernelspec": {
   "display_name": "Python 3",
   "language": "python",
   "name": "python3"
  },
  "language_info": {
   "codemirror_mode": {
    "name": "ipython",
    "version": 3
   },
   "file_extension": ".py",
   "mimetype": "text/x-python",
   "name": "python",
   "nbconvert_exporter": "python",
   "pygments_lexer": "ipython3",
   "version": "3.6.7"
  }
 },
 "nbformat": 4,
 "nbformat_minor": 2
}
