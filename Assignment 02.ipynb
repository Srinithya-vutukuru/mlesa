{
  "nbformat": 4,
  "nbformat_minor": 0,
  "metadata": {
    "colab": {
      "name": "Week 02",
      "version": "0.3.2",
      "provenance": []
    },
    "kernelspec": {
      "name": "python3",
      "display_name": "Python 3"
    }
  },
  "cells": [
    {
      "metadata": {
        "id": "4CBA_MIbqPe6",
        "colab_type": "text"
      },
      "cell_type": "markdown",
      "source": [
        "### 1.  The probability that the sum of the values of 2 die when thrown is equal to 11 is:\n",
        "\n",
        "There are 36 (6*6 )possibilites. Only two are equl to 11 ([5,6], [6,5]).\n",
        "\n",
        "So anwer is 2/36  -> **1/18** "
      ]
    },
    {
      "metadata": {
        "id": "HLSse754wiAd",
        "colab_type": "text"
      },
      "cell_type": "markdown",
      "source": [
        "### 2. The probability that an ace is drawn on the second draw from a well shuffled pack of cards given that the first one was an ace is:\n",
        "\n",
        "There are four aces in a set of standard cards. So one already taken. so 3 aces and 51cards left\n",
        ".\n",
        "\n",
        "The probability to get one ace from the remaining cards are : **3/51** \n",
        "\n",
        "The question didn't mention whether it is with-replacement or without-replacement. I assumes it is without-replacement"
      ]
    },
    {
      "metadata": {
        "id": "QNKgF4n84Dyk",
        "colab_type": "text"
      },
      "cell_type": "markdown",
      "source": [
        "### 3. A family has two children. Given that one of the children is a boy, what is the probability that both children are boys?\n",
        "The question bit confusing: See [this](https://math.stackexchange.com/questions/15055/in-a-family-with-two-children-what-are-the-chances-if-one-of-the-children-is-a) and [this](https://en.wikipedia.org/wiki/Boy_or_Girl_paradox).\n",
        "\n",
        "~~There are total four possibilities: (B,B), (B, G), (G,B), (G,G)~~\n",
        "~~But one of the children is a boy: So (B,B), (B,G), (G,B)~~\n",
        "~~Then chance of both boys: 1/3~~\n",
        "\n",
        "I wrote the answer as 1/2\n",
        "\n",
        "----\n",
        "----\n",
        "#### I was wrong!? Accpted answer was 1/3\n",
        "\n",
        "----\n",
        "----"
      ]
    },
    {
      "metadata": {
        "id": "dunw74CUxsuY",
        "colab_type": "text"
      },
      "cell_type": "markdown",
      "source": [
        "### 4. Which of the following statements is true?\n",
        "The sum of probabilities of mutually exclusive and collectively exhaustive events must be 1.\n",
        "\n",
        "\n",
        "* https://math.stackexchange.com/questions/2507677/if-a-and-b-are-independent-events-they-are-mutually-exclusiveproof-for-why-its"
      ]
    },
    {
      "metadata": {
        "id": "uYZjmsJ_8_Lh",
        "colab_type": "text"
      },
      "cell_type": "markdown",
      "source": [
        "### 5. If the random variable X follows the below distribution, what is the value of c?\n",
        " **f(x) = cx^3 **\n",
        " Integration of the f(x) over the interval should give 1. So c= **4**\n",
        " \n",
        " [see an example](https://www.youtube.com/watch?v=EPm7FdajBvc)\n",
        "\n",
        "---\n",
        "\n"
      ]
    },
    {
      "metadata": {
        "id": "_Z8qYNJU_aNb",
        "colab_type": "text"
      },
      "cell_type": "markdown",
      "source": [
        "### 6. Which of the following statements is true with regards to the probability distribution function f(x) of a random variable X?\n",
        "\n",
        "Didn't mention whether it is discreate or continous. So we need to account for both.\n",
        "\n",
        "Lower value of f(x)  is 0 for p.d.f and p.m.f.\n",
        "\n",
        "f(x) can be more than 1 in case of continous R.V.\n",
        "\n",
        "So answer is: **f(x) must be non-negative for all values of x**\n",
        "\n",
        "[Ref](https://www.itl.nist.gov/div898/handbook/eda/section3/eda361.htm) \n"
      ]
    },
    {
      "metadata": {
        "id": "EMlTivV6t-4Q",
        "colab_type": "text"
      },
      "cell_type": "markdown",
      "source": [
        "### 7. An image is represented as a vector x. We wish to classify the image in one of 3 classes -- a cat, a dog or neither.\n",
        "\n",
        "#### Option 1 is CORRECT: sum of hk = 1\n",
        "Sum of the probability should be 1.\n",
        "\n",
        "#### Option 4 is WRONG: hk = p(hk=1)\n",
        "What is p(hk=1) ? It is called prior probability in bayesian inference. Basically it says what is the probability of an image being a cat/dog/neither.\n",
        "That can be calculated if we have the population/sample data. No such data given in the question. For example, assume we know that there are 12 cats, 13 dogs and 14 other animals in the world . Then what is the probability of an animal being cat, dog, or other animals? Obviously 12/39, 13/39 and 14/39 respectively. (I think we can consider an uniform distribution in this scenario since we don't have any population/sample data. i.e. hk=1/3).\n",
        "\n",
        "#### Option 2 is CORRECT: hk = p(yk=1|x)\n",
        "It says that hk is the probability of yk=1 for the given image.\n",
        "The question talks about the conditional probability \"it means that the given image has a probability of 0.7 that it is a cat\".  We get the following:\n",
        "hCAT = p(yCAT=1|x) \n",
        "hDOG = p(yDOG=1|x) \n",
        "hNEITHER= p(yNEITHER=1|x) \n",
        "So general form above three equations: hK = p(yK = 1 | x)\n",
        "\n",
        "#### Option 3 is WRONG: hk = p(yk=0|x)\n",
        "This option contradicts the option 2. It says hk is the probability of yk=0 given that the image data."
      ]
    },
    {
      "metadata": {
        "id": "PHEaxG4zrAeJ",
        "colab_type": "text"
      },
      "cell_type": "markdown",
      "source": [
        "### 8. If a fair coin is tossed 4 times, what is the expected number of heads?\n",
        "\n",
        "It is binomial distribution here n is 4 and p is 1/2.\n",
        "The mean of binomial distribution is: np -> 4*1/2 = **2**"
      ]
    },
    {
      "metadata": {
        "id": "M8m7z_h4rlM0",
        "colab_type": "text"
      },
      "cell_type": "markdown",
      "source": [
        "### 9. Given two random variables X and Y, which of the following equations hold true?\n",
        "\n",
        "third (covariance is zero) and fourth ( E[X+Y] ) options. [See](https://www.stat.auckland.ac.nz/~fewster/325/notes/ch3.pdf) "
      ]
    },
    {
      "metadata": {
        "id": "9LfqDZtAuVAc",
        "colab_type": "text"
      },
      "cell_type": "markdown",
      "source": [
        "### 10. What is the expected value of the random variable X with probability distribution function given\n",
        "\n",
        "here f(x) is 3/8*x^2. Expected value calculated as given below\n",
        "\n",
        "![alt text](https://wikimedia.org/api/rest_v1/media/math/render/svg/2dabe1557bd0386dc158ef46669f9b8123af5f7a)\n",
        "\n",
        "So need find the integral of 3/8*x^3  over [0,2] \n",
        "\n",
        "Answer: 3/2"
      ]
    }
  ]
}