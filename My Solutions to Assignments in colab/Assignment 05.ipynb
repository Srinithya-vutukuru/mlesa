{
  "nbformat": 4,
  "nbformat_minor": 0,
  "metadata": {
    "colab": {
      "name": "Week 05",
      "version": "0.3.2",
      "provenance": [],
      "collapsed_sections": [],
      "include_colab_link": true
    },
    "kernelspec": {
      "name": "python3",
      "display_name": "Python 3"
    }
  },
  "cells": [
    {
      "cell_type": "markdown",
      "metadata": {
        "id": "view-in-github",
        "colab_type": "text"
      },
      "source": [
        "<a href=\"https://colab.research.google.com/github/habeebperwad/mlesa/blob/master/Assignment%2005.ipynb\" target=\"_parent\"><img src=\"https://colab.research.google.com/assets/colab-badge.svg\" alt=\"Open In Colab\"/></a>"
      ]
    },
    {
      "metadata": {
        "id": "8J45hVIHUHXq",
        "colab_type": "text"
      },
      "cell_type": "markdown",
      "source": [
        "### 1. Which of the following statements are true? Check all that apply.\n",
        "\n",
        "'**Option A: RIGHT**:\n",
        "![alt text](https://onlinecourses.nptel.ac.in/noc19_cs14/assets/img/A5Q1CH1.PNG?seed=42738&url=assets/img/A5Q1CH1.PNG)\n",
        "\n",
        "\n",
        "\n",
        "\n",
        "'**Option B: RIGHT**: ![alt text](https://onlinecourses.nptel.ac.in/noc19_cs14/assets/img/A5Q1CH2.PNG?seed=73122&url=assets/img/A5Q1CH2.PNG)\n",
        "- [Hope this explains why linear regression is not the best fit for classification problems!](https://stats.stackexchange.com/a/22382)\n",
        "- [You can apply linear regression for classification by assigning a threshold](https://discuss.analyticsvidhya.com/t/using-linear-regression-for-a-classification-problem/9848/3)\n",
        "\n",
        "~~Option **C**: WRONG:~~ ![alt text](https://onlinecourses.nptel.ac.in/noc19_cs14/assets/img/A5Q1CH3.PNG?seed=72683&url=assets/img/A5Q1CH3.PNG)\n",
        "- I assume the cost function is cross-entropy.\n",
        "- [not sure] Cross-entropy is a convex function so local-minimum same as global minimum in any convex function.\n",
        "\n",
        "\n",
        "**Option D: RIGHT** ![alt text](https://onlinecourses.nptel.ac.in/noc19_cs14/assets/img/A5Q1CH4.PNG?seed=94602&url=assets/img/A5Q1CH4.PNG)\n",
        "\n",
        "- Least squares cost function is [convex](https://math.stackexchange.com/a/2774380) \n",
        "function\n",
        "- [Any local minimum of a convex function is also a global minimum](https://en.wikipedia.org/wiki/Convex_function).\n",
        "\n",
        "---------------\n",
        "*Accepted Answer: A,B,C,D*\n",
        "\n",
        "---------------"
      ]
    },
    {
      "metadata": {
        "id": "4Yhfr7t8VDXK",
        "colab_type": "text"
      },
      "cell_type": "markdown",
      "source": [
        "### 2.\n",
        "![alt text](https://onlinecourses.nptel.ac.in/noc19_cs14/assets/img/A5Q2.PNG?seed=38052&url=assets/img/A5Q2.PNG)\n",
        "\n",
        "**Option A: RIGHT**:  ![alt text](https://onlinecourses.nptel.ac.in/noc19_cs14/assets/img/A5Q2CH1.PNG?seed=3287&url=assets/img/A5Q2CH1.PNG)\n",
        "- Cross-entropy value always non-negative. see option-A of question-1\n",
        "- This option is bit strange. It won't have any direct relation with the question. if they used \"J(w)=0\", it may make some sense!! \n",
        "\n",
        "Option **B**: WRONG:\n",
        "![alt text](https://onlinecourses.nptel.ac.in/noc19_cs14/assets/img/A5Q2CH2.PNG?seed=62950&url=assets/img/A5Q2CH2.PNG)\n",
        "- The value of y_hat is the output ofsigmoid function. The range of sigmoid is [0, 1]. So the value of y_hat cannot be greater than1.\n",
        "\n",
        "\n",
        "**Option C: RIGHT**: ![alt text](https://onlinecourses.nptel.ac.in/noc19_cs14/assets/img/A5Q2CH3.PNG?seed=17502&url=assets/img/A5Q2CH3.PNG)\n",
        "\n",
        "- More feature make the model complex. Complex model overfit the training data easily if there is no regularization. See the below program to see the Cross-entropy value before and after adding polynomial features .\n",
        "\n",
        "\n",
        "Option **D**: WRONG: ![alt text](https://onlinecourses.nptel.ac.in/noc19_cs14/assets/img/A5Q2CH4.PNG?seed=4198&url=assets/img/A5Q2CH4.PNG)\n",
        " - See the below image. You cannot draw a straight line so that all green dots in one side and red dot in other side."
      ]
    },
    {
      "metadata": {
        "id": "MuBESTAibl_x",
        "colab_type": "code",
        "outputId": "31a850d7-d992-4360-fd23-8355d0fd1fd3",
        "colab": {
          "base_uri": "https://localhost:8080/",
          "height": 54
        }
      },
      "cell_type": "code",
      "source": [
        "from sklearn.datasets import load_iris\n",
        "from sklearn.linear_model import LogisticRegression\n",
        "from sklearn.metrics import log_loss\n",
        "X = [[0.5,1], [1.5, 1], [1, 2], [1,3]]\n",
        "y = [1,1,0,1]\n",
        "clf = LogisticRegression( solver='lbfgs').fit(X, y)\n",
        "print(\"Cross-entropy before poly: %0.4f\" % (log_loss(y,clf.predict_proba(X)),))\n",
        "\n",
        "Xpoly = []\n",
        "\n",
        "for x in X:\n",
        "  item = x\n",
        "  item.append(x[0]**2) # adding x1^2\n",
        "  item.append(x[1]**2) # adding x2^2\n",
        "  item.append(x[0]*x[1]) # adding x1*x2\n",
        "  Xpoly.append(item)\n",
        "  \n",
        "clfpoly = LogisticRegression(solver='lbfgs').fit(Xpoly, y)\n",
        "print(\"Cross-entropy after poly: %.4f\" %(log_loss(y,clfpoly.predict_proba(Xpoly)),))"
      ],
      "execution_count": 5,
      "outputs": [
        {
          "output_type": "stream",
          "text": [
            "Cross-entropy before poly: 0.5538\n",
            "Cross-entropy after poly: 0.5424\n"
          ],
          "name": "stdout"
        }
      ]
    },
    {
      "metadata": {
        "id": "-7HqsY10VQ-D",
        "colab_type": "code",
        "outputId": "72efdca7-ebdf-46d3-ad31-569c2ef84534",
        "colab": {
          "base_uri": "https://localhost:8080/",
          "height": 361
        }
      },
      "cell_type": "code",
      "source": [
        "x1_1 = [0.5, 1.5, 1] # x1 with ouput 1\n",
        "x2_1 = [1, 1, 3] # x2 with ouput 1\n",
        "x1_0 = [1] # x1 with ouput 0\n",
        "x2_0 = [2] # x2 with ouput 0\n",
        "\n",
        "\n",
        "import matplotlib.pyplot as plt\n",
        "plt.plot(x1_1, x2_1, \"go\")\n",
        "plt.plot(x1_0, x2_0, \"ro\")\n",
        "plt.xlabel(\"X1\")\n",
        "plt.ylabel(\"X2\")\n",
        "\n",
        "plt.show()"
      ],
      "execution_count": 6,
      "outputs": [
        {
          "output_type": "display_data",
          "data": {
            "image/png": "[encoded data removed]",
            "text/plain": [
              "<Figure size 576x396 with 1 Axes>"
            ]
          },
          "metadata": {
            "tags": []
          }
        }
      ]
    },
    {
      "metadata": {
        "id": "Ho_VDzno6y0T",
        "colab_type": "text"
      },
      "cell_type": "markdown",
      "source": [
        "### 3\n",
        "![alt text](https://onlinecourses.nptel.ac.in/noc19_cs14/assets/img/A5Q3NEW.PNG?seed=49333&url=assets/img/A5Q3NEW.PNG)\n",
        "\n",
        "- **A.**  w0 = -11, w1= 6,w2= 6\n",
        "\n",
        "- **B.**  w0 = -11, w1= 20, w2= 20\n",
        "\n",
        "- **C.**  w0 = -35, w1 = 20, w2= 20\n",
        "\n",
        "- **D.**  w0 = 25, w1 = 10, w2 = -30 \n",
        "\n",
        "\n",
        "\n",
        "The AND table is given \n",
        "\n",
        "\n",
        "`x1| x2| h ` \n",
        "\n",
        "`------------`\n",
        "\n",
        "\n",
        "`0  |  0  | 0 ` \n",
        "\n",
        "`0  |  1  | 0 ` \n",
        "\n",
        "`1  |  0  | 0 ` \n",
        "\n",
        "`1  |  1  | 1 ` "
      ]
    },
    {
      "metadata": {
        "id": "2Fw23vaK7ZBq",
        "colab_type": "code",
        "colab": {
          "base_uri": "https://localhost:8080/",
          "height": 90
        },
        "outputId": "dfd2756b-be64-4c05-a005-3e09f5ebe93b"
      },
      "cell_type": "code",
      "source": [
        "inputs = [\n",
        "    [0,0],\n",
        "    [0,1],\n",
        "    [1,0],\n",
        "    [1,1]\n",
        "]\n",
        "outputs = [0, 0, 0, 1]\n",
        "\n",
        "option_A = {\"w0\": -11, \"w1\": 6, \"w2\": 6}\n",
        "option_B = {\"w0\": -11, \"w1\": 20, \"w2\": 20}\n",
        "option_C = {\"w0\": -35, \"w1\": 20, \"w2\": 20}\n",
        "option_D = {\"w0\": 25, \"w1\": 10, \"w2\": -30}\n",
        "\n",
        "h = lambda x1,x2, w0, w1, w2: 1 if (w0+x1*w1+x2*w2) >= 0 else 0\n",
        "\n",
        "h_expand = lambda input, option: h(input[0], input[1], option[\"w0\"], option[\"w1\"], option[\"w2\"])\n",
        "\n",
        "def isSatisfyAND(option):\n",
        "  for input,output in zip(inputs, outputs):\n",
        "    if(h_expand(input, option)!=output):\n",
        "      return False\n",
        "  return True\n",
        "\n",
        "\n",
        "print(\"Option A: \", \"RIGHT\" if isSatisfyAND(option_A) else \"WRONG\")\n",
        "print(\"Option B: \", \"RIGHT\" if isSatisfyAND(option_B) else \"WRONG\")\n",
        "print(\"Option C: \", \"RIGHT\" if isSatisfyAND(option_C) else \"WRONG\")\n",
        "print(\"Option D: \", \"RIGHT\" if isSatisfyAND(option_D) else \"WRONG\")\n",
        "\n"
      ],
      "execution_count": 7,
      "outputs": [
        {
          "output_type": "stream",
          "text": [
            "Option A:  RIGHT\n",
            "Option B:  WRONG\n",
            "Option C:  RIGHT\n",
            "Option D:  WRONG\n"
          ],
          "name": "stdout"
        }
      ]
    },
    {
      "metadata": {
        "id": "kgjpC8A6Jf_d",
        "colab_type": "text"
      },
      "cell_type": "markdown",
      "source": [
        "### 4 \n",
        "![alt text](https://onlinecourses.nptel.ac.in/noc19_cs14/assets/img/A5Q4.PNG?seed=85145&url=assets/img/A5Q4.PNG)\n",
        "\n",
        "\n",
        "Here input layer contains 2 inputs. The inputs connected to two neurons in the hiddent layer.\n",
        "Each neurons in the hidden layer will have seprate bias-weight.\n",
        "Total weights = 2 inputs * 2 hidden neurons + 2 bias for two hidden layer neurons = 6 weights\n",
        "\n",
        "**ANSWER#4:  6**\n",
        "Output layer can have one or two neurons. If it is one, use sigmoid. For two, use softmax.\n",
        "Usually it will be one. And the question says we need to use sigmoid. So I conclude the output layer contain only one neuron.\n",
        "\n",
        "The two neurons in the hidden layer connected to oe neuron in the output layer.\n",
        "The neron in the output layer will have bias-weight.\n",
        "Total weights = 2 hidden layer neurons * 1 ouput neuron + 1 bias for the ouput layer neurons = 3 weights\n",
        "\n",
        "**ANSWER#5:  3**\n"
      ]
    },
    {
      "metadata": {
        "id": "OjjkFzMd-5bY",
        "colab_type": "code",
        "colab": {
          "base_uri": "https://localhost:8080/",
          "height": 109
        },
        "outputId": "302030fb-586b-4f09-b3b2-a9e19cdfb7fb"
      },
      "cell_type": "code",
      "source": [
        "import math\n",
        "\n",
        "def a(x):\n",
        "  return 1.0 / (1 + math.exp(-x))\n",
        "\n",
        "z = lambda w0, w1, w2, x1, x2: w0+x1*w1+x2*w2\n",
        "\n",
        "\n",
        "\n",
        "inputs =[\n",
        "    [0, 0],\n",
        "    [0, 1],\n",
        "    [1, 0],\n",
        "    [1, 1]\n",
        "]\n",
        "outputs = [0, 1, 1, 0]\n",
        "\n",
        "\n",
        "def y(x1, x2):\n",
        "  hidden_layer_neuron1z = z(1, 1, 1, x1, x2)\n",
        "  hidden_layer_neuron2z =z(1, 1, 1, x1, x2)\n",
        "  \n",
        "  hidden_layer_neuron1a = a(hidden_layer_neuron1z)\n",
        "  hidden_layer_neuron2a = a(hidden_layer_neuron2z)\n",
        "  output_layer_neuronz = z(1, 1, 1, hidden_layer_neuron1a, hidden_layer_neuron2a)\n",
        "  output_layer_neurona = a(output_layer_neuronz)\n",
        "  #print(locals())\n",
        "  return output_layer_neurona\n",
        "\n",
        "\n",
        "print(\"ANSWER#6 %4.2f\" % y(1,0))\n",
        "\n",
        "\n",
        "first = y(inputs[0][0], inputs[0][1])\n",
        "second = y(inputs[1][0], inputs[1][1])\n",
        "third = y(inputs[2][0], inputs[2][1])\n",
        "fourth = y(inputs[3][0], inputs[3][1])\n",
        "print(\"ANSWER#7 A: 1st and 2nd equal : \", \"YES\" if first==second else \"NO\")\n",
        "print(\"ANSWER#7 B: 2nd and 3rd equal : \", \"YES\" if second==third else \"NO\")\n",
        "print(\"ANSWER#7 C: 3rd and 4th equal : \", \"YES\" if third==fourth else \"NO\")\n",
        "print(\"ANSWER#7 D: 4th and 1st equal : \", \"YES\" if fourth==first else \"NO\")"
      ],
      "execution_count": 8,
      "outputs": [
        {
          "output_type": "stream",
          "text": [
            "ANSWER#6 0.94\n",
            "ANSWER#7 A: 1st and 2nd equal :  NO\n",
            "ANSWER#7 B: 2nd and 3rd equal :  YES\n",
            "ANSWER#7 C: 3rd and 4th equal :  NO\n",
            "ANSWER#7 D: 4th and 1st equal :  NO\n"
          ],
          "name": "stdout"
        }
      ]
    },
    {
      "metadata": {
        "id": "sOYs-VNlwcxS",
        "colab_type": "text"
      },
      "cell_type": "markdown",
      "source": [
        "--------------------\n",
        "\n",
        "Accepted answer for **Question 6 is 0.99**. I don't know what is the issue with my solution!\n",
        "\n",
        "--------------------"
      ]
    },
    {
      "metadata": {
        "id": "SFKSEs_sSCP0",
        "colab_type": "text"
      },
      "cell_type": "markdown",
      "source": [
        "### Based on data, Answer questions 8-10:\n",
        "\n",
        "Dear Students,\n",
        "\n",
        "There is a mistake in multiple choice options of Questions 8, 9, 10 in Assignment 5.\n",
        "Kindly make a random choice, marks will be given to any option selected.\n",
        "\n",
        "Regards, NPTEL. Feb 27\n"
      ]
    }
  ]
}