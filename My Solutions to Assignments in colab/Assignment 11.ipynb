{
  "nbformat": 4,
  "nbformat_minor": 0,
  "metadata": {
    "colab": {
      "name": "Week 11",
      "version": "0.3.2",
      "provenance": []
    },
    "kernelspec": {
      "name": "python3",
      "display_name": "Python 3"
    }
  },
  "cells": [
    {
      "metadata": {
        "id": "bWcBZBKkuDqP",
        "colab_type": "text"
      },
      "cell_type": "markdown",
      "source": [
        "### 1\n",
        "![alt text](https://onlinecourses.nptel.ac.in/noc19_cs14/assets/img/A11Q1.png?seed=20813&url=assets/img/A11Q1.png)\n",
        "\n",
        "- **A**. 4/5\n",
        "- **B**. 3/5\n",
        "- **C RIGHT**. 2/5\n",
        "- **D**. 1/5\n",
        "\n",
        "<p>&nbsp;</p>\n",
        "\n",
        " The maximum likelihood estimate for the rate parameter is:\n",
        "\n",
        "![alt text](https://wikimedia.org/api/rest_v1/media/math/render/svg/cb70cd5f0ecd70226fa8c17e9df78e351eaa7b02)\n",
        "\n",
        "See [MLE in Exponential distribution](https://en.wikipedia.org/wiki/Exponential_distribution#Parameter_estimation)\n",
        "\n",
        "\n",
        "-"
      ]
    },
    {
      "metadata": {
        "id": "k2ZKMIlbuYzY",
        "colab_type": "text"
      },
      "cell_type": "markdown",
      "source": [
        "### 2\n",
        "![alt text](https://onlinecourses.nptel.ac.in/noc19_cs14/assets/img/A11Q2.png?seed=52141&url=assets/img/A11Q2.png)\n",
        "\n",
        "- **A RIGHT**. \n",
        "\n",
        "![alt text](https://onlinecourses.nptel.ac.in/noc19_cs14/assets/img/A11Q2CH1.png?seed=25246&url=assets/img/A11Q2CH1.png)\n",
        "\n",
        "- **B**. \n",
        "\n",
        "![alt text](https://onlinecourses.nptel.ac.in/noc19_cs14/assets/img/A11Q2CH2.png?seed=92218&url=assets/img/A11Q2CH2.png)\n",
        "\n",
        "- **C**. \n",
        "\n",
        "![alt text](https://onlinecourses.nptel.ac.in/noc19_cs14/assets/img/A11Q2CH3.png?seed=17051&url=assets/img/A11Q2CH3.png)\n",
        "\n",
        "\n",
        "- **D**. \n",
        "\n",
        "![alt text](https://onlinecourses.nptel.ac.in/noc19_cs14/assets/img/A11Q2CH4.png?seed=84172&url=assets/img/A11Q2CH4.png)\n"
      ]
    },
    {
      "metadata": {
        "id": "SOYAiCciu1w3",
        "colab_type": "text"
      },
      "cell_type": "markdown",
      "source": [
        "### 3 For any particular problem, maximizing the likelihood function always leads to\n",
        "\n",
        "- **A**. High Bias\n",
        "- **B RIGHT**. Over-fitting\n",
        "- **C**. Simple models\n",
        "- **D**. None of the above"
      ]
    },
    {
      "metadata": {
        "id": "kLG1yJIku173",
        "colab_type": "text"
      },
      "cell_type": "markdown",
      "source": [
        "### 4\n",
        "![alt text](https://onlinecourses.nptel.ac.in/noc19_cs14/assets/img/A11Q4.png?seed=98098&url=assets/img/A11Q4.png)\n",
        "\n",
        "- **A RIGHT**. \n",
        "\n",
        "![alt text](https://onlinecourses.nptel.ac.in/noc19_cs14/assets/img/A11Q4CH1.png?seed=3046&url=assets/img/A11Q4CH1.png)\n",
        "\n",
        "- **B**. \n",
        "\n",
        "![alt text](https://onlinecourses.nptel.ac.in/noc19_cs14/assets/img/A11Q4CH2.png?seed=55719&url=assets/img/A11Q4CH2.png)\n",
        "\n",
        "- **C**. \n",
        "\n",
        "![alt text](https://onlinecourses.nptel.ac.in/noc19_cs14/assets/img/A11Q4CH3.png?seed=38725&url=assets/img/A11Q4CH3.png)\n",
        "\n",
        "- **D**.\n",
        "\n",
        "![alt text](https://onlinecourses.nptel.ac.in/noc19_cs14/assets/img/A11Q4CH4.png?seed=95007&url=assets/img/A11Q4CH4.png)\n",
        "\n",
        "\n",
        "---------\n",
        "\n",
        "**Accepted Answers: A and D**\n",
        "\n",
        "Option-D is the surprise for the week :P\n",
        "\n",
        "---------\n"
      ]
    },
    {
      "metadata": {
        "id": "1t1gni06u1-_",
        "colab_type": "text"
      },
      "cell_type": "markdown",
      "source": [
        "### 5. What does an auto-encoder learn about the data?\n",
        "- **A**. High dimensional representation of the data\n",
        "- **B RIGHT**. Low dimensional representation of the data\n",
        "- **C**. Average dimensional representation of the data\n",
        "- **D**. No representation of the data is learned\n"
      ]
    },
    {
      "metadata": {
        "id": "lq38jdE67x-M",
        "colab_type": "text"
      },
      "cell_type": "markdown",
      "source": [
        "### 6. Auto-encoders are able to compress the input data in its hidden representation if:\n",
        "- **A RIGHT**. If the input features are correlated\n",
        "- **B**. If the input features are not correlated\n",
        "- **C**. If the input features are independent\n",
        "- **D**. If the input features are unrelated\n"
      ]
    },
    {
      "metadata": {
        "id": "k2Vlqn8S77Z3",
        "colab_type": "text"
      },
      "cell_type": "markdown",
      "source": [
        "### 7. Generative Adversarial models are:\n",
        "- **A RIGHT**. A. Generative models\n",
        "- **B**. B. Discriminative models\n",
        "- **C**. Both A and B\n",
        "- **D**. None of the above."
      ]
    },
    {
      "metadata": {
        "id": "eaSqqMZd8gpt",
        "colab_type": "text"
      },
      "cell_type": "markdown",
      "source": [
        "### 8. The main objective of Bayesian linear regression is\n",
        "- **A**. A. To find a single best value of model parameters.\n",
        "- **B RIGHT**. B. To determine the posterior distribution for the model parameters\n",
        "- **C**. Both A and B\n",
        "- **D**.None of the above."
      ]
    },
    {
      "metadata": {
        "id": "1iQghDVau2Bm",
        "colab_type": "text"
      },
      "cell_type": "markdown",
      "source": [
        "### 9. \n",
        "![alt text](https://onlinecourses.nptel.ac.in/noc19_cs14/assets/img/A11Q9.png?seed=44649&url=assets/img/A11Q9.png)\n",
        "\n",
        "- **A RIGHT**.\n",
        "\n",
        "![alt text](https://onlinecourses.nptel.ac.in/noc19_cs14/assets/img/A11Q9CH1.png?seed=48422&url=assets/img/A11Q9CH1.png)\n",
        "\n",
        "- **B RIGHT**.\n",
        "\n",
        "![alt text](https://onlinecourses.nptel.ac.in/noc19_cs14/assets/img/A11Q9CH2.png?seed=1241&url=assets/img/A11Q9CH2.png)\n",
        "\n",
        "- **C**.\n",
        "\n",
        "![alt text](https://onlinecourses.nptel.ac.in/noc19_cs14/assets/img/A11Q9CH3.png?seed=45636&url=assets/img/A11Q9CH3.png)\n",
        "\n",
        "- **D**.\n",
        "\n",
        "![alt text](https://onlinecourses.nptel.ac.in/noc19_cs14/assets/img/A11Q9CH4.png?seed=80909&url=assets/img/A11Q9CH4.png)"
      ]
    },
    {
      "metadata": {
        "id": "RBg1Nv3tysD3",
        "colab_type": "text"
      },
      "cell_type": "markdown",
      "source": [
        "### 10. ​ Which of the following are true about variational auto-encoders?\n",
        "- **A**. They are a form of denoising autoencoders\n",
        "- **B**. They require a random number as input during training\n",
        "- **C**. It’s called variational because the output varies constantly\n",
        "- **D RIGHT**. KL divergence is one of the terms in the loss function"
      ]
    },
    {
      "metadata": {
        "id": "5YU-7g_Wy3uX",
        "colab_type": "code",
        "colab": {}
      },
      "cell_type": "code",
      "source": [
        ""
      ],
      "execution_count": 0,
      "outputs": []
    }
  ]
}