{
  "nbformat": 4,
  "nbformat_minor": 0,
  "metadata": {
    "colab": {
      "name": "Week 10",
      "version": "0.3.2",
      "provenance": []
    },
    "kernelspec": {
      "name": "python3",
      "display_name": "Python 3"
    }
  },
  "cells": [
    {
      "metadata": {
        "id": "w4aFI5kFPtr4",
        "colab_type": "text"
      },
      "cell_type": "markdown",
      "source": [
        "###1 Which of the following is assumed when classifying using the Naive Bayes method?\n",
        "- **A**. The features have strong correlation with each other\n",
        "- **B**. The features are all normalized before classification\n",
        "- **C RIGHT**. The features are independent/conditionally independent of each other\n",
        "- **D**. The data is low dimensional in nature"
      ]
    },
    {
      "metadata": {
        "id": "ZEcuqIB1QPxL",
        "colab_type": "text"
      },
      "cell_type": "markdown",
      "source": [
        "\n",
        "###2 The primary role of Principal component analysis is\n",
        "- **A**. Classification\n",
        "- **B**. Regression\n",
        "- **C**. Clustering\n",
        "- **D RIGHT**. Dimensionality Reduction\n",
        "\n"
      ]
    },
    {
      "metadata": {
        "id": "gWyubXgXQRXM",
        "colab_type": "text"
      },
      "cell_type": "markdown",
      "source": [
        "###3 Which direction does PCA use to perform dimensionality reduction?\n",
        "- **A RIGHT**. Direction of maximum variance\n",
        "- **B**. Direction of minimum variance\n",
        "- **C**. Direction of maximum mean\n",
        "- **D**. Direction of minimum mean\n"
      ]
    },
    {
      "metadata": {
        "id": "EOVajjQRQSqG",
        "colab_type": "text"
      },
      "cell_type": "markdown",
      "source": [
        "\n",
        "###4 Which of the following is/are true about PCA?\n",
        "- **A RIGHT**. The principal components are orthogonal to each other\n",
        "- **B ~~RIGHT~~**. There can be only one principal component in PCA\n",
        "- **C**. There are always lesser principal components than initial dimensions\n",
        "- **D**. None of the above\n",
        "\n",
        "----\n",
        "Accepted Answers:\n",
        "- The principal components are orthogonal to each other\n",
        "- There are always lesser principal components than initial dimensions\n",
        "\n",
        "----\n"
      ]
    },
    {
      "metadata": {
        "id": "amc44eLPcu0E",
        "colab_type": "text"
      },
      "cell_type": "markdown",
      "source": [
        "### 5 \n",
        "![alt text](https://onlinecourses.nptel.ac.in/noc19_cs14/assets/img/A10Q5ML.png?seed=98770&url=assets/img/A10Q5ML.png)\n",
        "\n",
        "- **A**.\n",
        "![alt text](https://onlinecourses.nptel.ac.in/noc19_cs14/assets/img/A10Q5O1ML.png?seed=57070&url=assets/img/A10Q5O1ML.png)\n",
        "\n",
        "- **B**.\n",
        "![alt text](https://onlinecourses.nptel.ac.in/noc19_cs14/assets/img/A10Q5O2ML.png?seed=92540&url=assets/img/A10Q5O2ML.png)\n",
        "\n",
        "- **C**.\n",
        "![alt text](https://onlinecourses.nptel.ac.in/noc19_cs14/assets/img/A10Q5O3ML.png?seed=61365&url=assets/img/A10Q5O3ML.png)\n",
        "\n",
        "- **D RIGHT**.\n",
        "![alt text](https://onlinecourses.nptel.ac.in/noc19_cs14/assets/img/A10Q5O4ML.png?seed=5914&url=assets/img/A10Q5O4ML.png)\n",
        " - [Bernoulli distributiont](https://en.wikipedia.org/wiki/Bernoulli_distribution). But here the range of x is not given in the question."
      ]
    },
    {
      "metadata": {
        "id": "8tu8suefdZ9w",
        "colab_type": "text"
      },
      "cell_type": "markdown",
      "source": [
        "----------\n",
        "\n",
        "The outcome of a series of N tosses is given by the vector X which contains either 1 or 0 in each element. Assuming that the probability of a heads is μ and that each toss is independent, the probability P (X|μ) is given by\n",
        "\n",
        "By above data answer the following questions 6 &7\n",
        "\n",
        "-----"
      ]
    },
    {
      "metadata": {
        "id": "Z7KqyeCihi7n",
        "colab_type": "text"
      },
      "cell_type": "markdown",
      "source": [
        "### 6. \n",
        "![alt text](https://onlinecourses.nptel.ac.in/noc19_cs14/assets/img/A10Q6ML.png?seed=34993&url=assets/img/A10Q6ML.png)\n",
        "\n",
        "- **A RIGHT**.\n",
        "\n",
        "![alt text](https://onlinecourses.nptel.ac.in/noc19_cs14/assets/img/A10Q6O1ML.png?seed=29716&url=assets/img/A10Q6O1ML.png)\n",
        "\n",
        "- **B**.\n",
        "\n",
        "![alt text](https://onlinecourses.nptel.ac.in/noc19_cs14/assets/img/A10Q6O2LM.png?seed=33113&url=assets/img/A10Q6O2LM.png)\n",
        "\n",
        "- **C**.\n",
        "\n",
        "![alt text](https://onlinecourses.nptel.ac.in/noc19_cs14/assets/img/A10Q6O3ML.png?seed=56155&url=assets/img/A10Q6O3ML.png)\n",
        " \n",
        "- **D**.\n",
        "\n",
        "![alt text](https://onlinecourses.nptel.ac.in/noc19_cs14/assets/img/A10Q6O4ML.png?seed=69379&url=assets/img/A10Q6O4ML.png)\n"
      ]
    },
    {
      "metadata": {
        "id": "rSkvph7mjFnk",
        "colab_type": "text"
      },
      "cell_type": "markdown",
      "source": [
        "### 7\n",
        "![alt text](https://onlinecourses.nptel.ac.in/noc19_cs14/assets/img/A10Q7ML.png?seed=94384&url=assets/img/A10Q7ML.png)\n",
        "\n",
        "- **A**.\n",
        "\n",
        "![alt text](https://onlinecourses.nptel.ac.in/noc19_cs14/assets/img/A10Q7O1ML.png?seed=23539&url=assets/img/A10Q7O1ML.png)\n",
        "\n",
        "- **B**.\n",
        "\n",
        "![alt text](https://onlinecourses.nptel.ac.in/noc19_cs14/assets/img/A10Q7O2ML.png?seed=35554&url=assets/img/A10Q7O2ML.png)\n",
        "\n",
        "- **C**.\n",
        "\n",
        "![alt text](https://onlinecourses.nptel.ac.in/noc19_cs14/assets/img/A10Q7O3ML.png?seed=77431&url=assets/img/A10Q7O3ML.png)\n",
        "\n",
        "- **D RIGHT**.\n",
        "\n",
        "![alt text](https://onlinecourses.nptel.ac.in/noc19_cs14/assets/img/A10Q7O4ML.png?seed=49797&url=assets/img/A10Q7O4ML.png)"
      ]
    },
    {
      "metadata": {
        "id": "jQsHH7dHRGBv",
        "colab_type": "text"
      },
      "cell_type": "markdown",
      "source": [
        "###8 Which of the following is true for the Gaussian distribution?\n",
        "- **A**. The mean of the distribution is always zero\n",
        "- **B RIGHT**.In higher dimensions, covariance is represented by a matrix\n",
        "- **C RIGHT**.The Gaussian is always symmetric about the mean\n",
        "- **D RIGHT**.The mean of the Gaussian is the same as its mode\n",
        "\n"
      ]
    },
    {
      "metadata": {
        "id": "7OfrGretRfDF",
        "colab_type": "text"
      },
      "cell_type": "markdown",
      "source": [
        "\n",
        "### 9 During linear regression, the maximum likelihood estimate of the parameters would be\n",
        "- **A**.Greater than the least squares parameters\n",
        "- **B**.Lesser than the least squares parameters\n",
        "- **C RIGHT**.Same as the least squares parameters\n",
        " - [In a linear model, if the errors belong to a normal distribution the least squares estimators are also the maximum likelihood estimators.](https://stats.stackexchange.com/a/265430/167493)\n",
        "- **D**.Have no connection with the least squares parameters\n",
        "\n"
      ]
    },
    {
      "metadata": {
        "id": "L4ot_uhxRgt9",
        "colab_type": "text"
      },
      "cell_type": "markdown",
      "source": [
        "\n",
        "###10 Suppose you wanted to model the probability distribution of a set of people liking a particular dish. Which form of distribution would be most apt? (Hint: They can either like the dish or they can't.)\n",
        "- **A**.Normal Distribution\n",
        "- **B RIGHT**.Bernoulli Distribution\n",
        "- **C**.Exponential Distribution\n",
        "- **D**.Log-Normal Distribution"
      ]
    }
  ]
}